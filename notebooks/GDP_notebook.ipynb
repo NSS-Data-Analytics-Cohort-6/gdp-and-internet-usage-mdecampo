{
 "cells": [
  {
   "cell_type": "markdown",
   "id": "39902c0e",
   "metadata": {},
   "source": [
    "##\n",
    "Import packages: "
   ]
  },
  {
   "cell_type": "code",
   "execution_count": 1,
   "id": "63532ee7",
   "metadata": {},
   "outputs": [],
   "source": [
    "import pandas as pd\n",
    "import numpy as np\n",
    "import matplotlib.pyplot as plt\n",
    "import seaborn as sns"
   ]
  },
  {
   "cell_type": "markdown",
   "id": "97486325",
   "metadata": {},
   "source": [
    "\n",
    "**Call matplotlib inline**"
   ]
  },
  {
   "cell_type": "code",
   "execution_count": 2,
   "id": "df803027",
   "metadata": {},
   "outputs": [],
   "source": [
    "%matplotlib inline"
   ]
  },
  {
   "cell_type": "markdown",
   "id": "3a7fd57a",
   "metadata": {},
   "source": [
    "\n",
    "**read in files and check data**"
   ]
  },
  {
   "cell_type": "code",
   "execution_count": 3,
   "id": "7e321da5",
   "metadata": {},
   "outputs": [],
   "source": [
    "gdp_df=pd.read_csv('../data/gdp_percapita.csv',nrows=6868)"
   ]
  },
  {
   "cell_type": "code",
   "execution_count": 38,
   "id": "3d75443d",
   "metadata": {},
   "outputs": [
    {
     "data": {
      "text/html": [
       "<div>\n",
       "<style scoped>\n",
       "    .dataframe tbody tr th:only-of-type {\n",
       "        vertical-align: middle;\n",
       "    }\n",
       "\n",
       "    .dataframe tbody tr th {\n",
       "        vertical-align: top;\n",
       "    }\n",
       "\n",
       "    .dataframe thead th {\n",
       "        text-align: right;\n",
       "    }\n",
       "</style>\n",
       "<table border=\"1\" class=\"dataframe\">\n",
       "  <thead>\n",
       "    <tr style=\"text-align: right;\">\n",
       "      <th></th>\n",
       "      <th>Country</th>\n",
       "      <th>Year</th>\n",
       "      <th>GDP_Per_Capita</th>\n",
       "    </tr>\n",
       "  </thead>\n",
       "  <tbody>\n",
       "    <tr>\n",
       "      <th>0</th>\n",
       "      <td>Afghanistan</td>\n",
       "      <td>2019</td>\n",
       "      <td>2065.036398</td>\n",
       "    </tr>\n",
       "    <tr>\n",
       "      <th>1</th>\n",
       "      <td>Afghanistan</td>\n",
       "      <td>2018</td>\n",
       "      <td>2033.779002</td>\n",
       "    </tr>\n",
       "    <tr>\n",
       "      <th>2</th>\n",
       "      <td>Afghanistan</td>\n",
       "      <td>2017</td>\n",
       "      <td>2058.383832</td>\n",
       "    </tr>\n",
       "    <tr>\n",
       "      <th>3</th>\n",
       "      <td>Afghanistan</td>\n",
       "      <td>2016</td>\n",
       "      <td>2057.062164</td>\n",
       "    </tr>\n",
       "    <tr>\n",
       "      <th>4</th>\n",
       "      <td>Afghanistan</td>\n",
       "      <td>2015</td>\n",
       "      <td>2068.265904</td>\n",
       "    </tr>\n",
       "  </tbody>\n",
       "</table>\n",
       "</div>"
      ],
      "text/plain": [
       "       Country  Year  GDP_Per_Capita\n",
       "0  Afghanistan  2019     2065.036398\n",
       "1  Afghanistan  2018     2033.779002\n",
       "2  Afghanistan  2017     2058.383832\n",
       "3  Afghanistan  2016     2057.062164\n",
       "4  Afghanistan  2015     2068.265904"
      ]
     },
     "execution_count": 38,
     "metadata": {},
     "output_type": "execute_result"
    }
   ],
   "source": [
    "#prints the new dataframe top 5 rows. Pass n between parentheses for more / less rows\n",
    "gdp_df.head()"
   ]
  },
  {
   "cell_type": "code",
   "execution_count": 5,
   "id": "7ebc96ba",
   "metadata": {},
   "outputs": [],
   "source": [
    "internet_df=pd.read_csv('../data/internet_use.csv',nrows=4495)"
   ]
  },
  {
   "cell_type": "code",
   "execution_count": 6,
   "id": "181a616d",
   "metadata": {
    "scrolled": true
   },
   "outputs": [
    {
     "name": "stdout",
     "output_type": "stream",
     "text": [
      "<class 'pandas.core.frame.DataFrame'>\n",
      "RangeIndex: 6868 entries, 0 to 6867\n",
      "Data columns (total 4 columns):\n",
      " #   Column           Non-Null Count  Dtype  \n",
      "---  ------           --------------  -----  \n",
      " 0   Country or Area  6868 non-null   object \n",
      " 1   Year             6868 non-null   int64  \n",
      " 2   Value            6868 non-null   float64\n",
      " 3   Value Footnotes  1 non-null      float64\n",
      "dtypes: float64(2), int64(1), object(1)\n",
      "memory usage: 214.8+ KB\n",
      "None\n",
      "<class 'pandas.core.frame.DataFrame'>\n",
      "RangeIndex: 4495 entries, 0 to 4494\n",
      "Data columns (total 4 columns):\n",
      " #   Column           Non-Null Count  Dtype  \n",
      "---  ------           --------------  -----  \n",
      " 0   Country or Area  4495 non-null   object \n",
      " 1   Year             4495 non-null   int64  \n",
      " 2   Value            4495 non-null   float64\n",
      " 3   Value Footnotes  948 non-null    float64\n",
      "dtypes: float64(2), int64(1), object(1)\n",
      "memory usage: 140.6+ KB\n",
      "None\n"
     ]
    }
   ],
   "source": [
    "print(gdp_df.info())\n",
    "print(internet_df.info())"
   ]
  },
  {
   "cell_type": "markdown",
   "id": "f9e745c5",
   "metadata": {},
   "source": [
    "**##\n",
    "check size of dataframes** \n",
    "1. gdp_df has 4 columns and 6,868 rows (not including headers)\n",
    "2. Internet_df has 4 columns and 4495 rows (not including headers) "
   ]
  },
  {
   "cell_type": "code",
   "execution_count": 7,
   "id": "baa2fedf",
   "metadata": {},
   "outputs": [
    {
     "name": "stdout",
     "output_type": "stream",
     "text": [
      "     Country or Area  Year        Value  Value Footnotes\n",
      "6858        Zimbabwe  1999  3600.849291              NaN\n",
      "6859        Zimbabwe  1998  3653.920016              NaN\n",
      "6860        Zimbabwe  1997  3580.048793              NaN\n",
      "6861        Zimbabwe  1996  3520.430146              NaN\n",
      "6862        Zimbabwe  1995  3226.413930              NaN\n",
      "6863        Zimbabwe  1994  3263.934978              NaN\n",
      "6864        Zimbabwe  1993  3033.504852              NaN\n",
      "6865        Zimbabwe  1992  3054.889178              NaN\n",
      "6866        Zimbabwe  1991  3426.598094              NaN\n",
      "6867        Zimbabwe  1990  3324.348171              NaN\n",
      "     Country or Area  Year     Value  Value Footnotes\n",
      "4485        Zimbabwe  2002  3.994356              NaN\n",
      "4486        Zimbabwe  2001  0.799846              NaN\n",
      "4487        Zimbabwe  2000  0.401434              NaN\n",
      "4488        Zimbabwe  1999  0.161676              NaN\n",
      "4489        Zimbabwe  1998  0.081648              NaN\n",
      "4490        Zimbabwe  1997  0.033080              NaN\n",
      "4491        Zimbabwe  1996  0.016790              NaN\n",
      "4492        Zimbabwe  1995  0.007684              NaN\n",
      "4493        Zimbabwe  1994  0.001739              NaN\n",
      "4494        Zimbabwe  1990  0.000000              NaN\n"
     ]
    }
   ],
   "source": [
    "print(gdp_df.tail(10))\n",
    "print(internet_df.tail(10))"
   ]
  },
  {
   "cell_type": "markdown",
   "id": "ece58e0e",
   "metadata": {},
   "source": [
    "**##\n",
    "Drop column from both tables. Used inplace to replace tables rather than duplicate them.** "
   ]
  },
  {
   "cell_type": "code",
   "execution_count": 8,
   "id": "dc13b6f8",
   "metadata": {},
   "outputs": [],
   "source": [
    "gdp_df.drop(['Value Footnotes'], axis=1, inplace=True)"
   ]
  },
  {
   "cell_type": "code",
   "execution_count": 9,
   "id": "374079ef",
   "metadata": {},
   "outputs": [],
   "source": [
    "internet_df.drop(['Value Footnotes'], axis=1, inplace=True)"
   ]
  },
  {
   "cell_type": "code",
   "execution_count": 10,
   "id": "1aac26c7",
   "metadata": {},
   "outputs": [
    {
     "name": "stdout",
     "output_type": "stream",
     "text": [
      "<class 'pandas.core.frame.DataFrame'>\n",
      "RangeIndex: 6868 entries, 0 to 6867\n",
      "Data columns (total 3 columns):\n",
      " #   Column           Non-Null Count  Dtype  \n",
      "---  ------           --------------  -----  \n",
      " 0   Country or Area  6868 non-null   object \n",
      " 1   Year             6868 non-null   int64  \n",
      " 2   Value            6868 non-null   float64\n",
      "dtypes: float64(1), int64(1), object(1)\n",
      "memory usage: 161.1+ KB\n",
      "None\n"
     ]
    }
   ],
   "source": [
    "print(gdp_df.info())"
   ]
  },
  {
   "cell_type": "code",
   "execution_count": 11,
   "id": "7a8dc1b1",
   "metadata": {},
   "outputs": [
    {
     "name": "stdout",
     "output_type": "stream",
     "text": [
      "<class 'pandas.core.frame.DataFrame'>\n",
      "RangeIndex: 4495 entries, 0 to 4494\n",
      "Data columns (total 3 columns):\n",
      " #   Column           Non-Null Count  Dtype  \n",
      "---  ------           --------------  -----  \n",
      " 0   Country or Area  4495 non-null   object \n",
      " 1   Year             4495 non-null   int64  \n",
      " 2   Value            4495 non-null   float64\n",
      "dtypes: float64(1), int64(1), object(1)\n",
      "memory usage: 105.5+ KB\n",
      "None\n"
     ]
    }
   ],
   "source": [
    "print(internet_df.info())"
   ]
  },
  {
   "cell_type": "markdown",
   "id": "958c7746",
   "metadata": {},
   "source": [
    "**##\n",
    "Rename columns in both tables. Used inplace to replace column names instead of create duplicate table. Printed each table to check results.** "
   ]
  },
  {
   "cell_type": "code",
   "execution_count": 12,
   "id": "49fd70e3",
   "metadata": {},
   "outputs": [
    {
     "name": "stdout",
     "output_type": "stream",
     "text": [
      "<class 'pandas.core.frame.DataFrame'>\n",
      "RangeIndex: 6868 entries, 0 to 6867\n",
      "Data columns (total 3 columns):\n",
      " #   Column          Non-Null Count  Dtype  \n",
      "---  ------          --------------  -----  \n",
      " 0   Country         6868 non-null   object \n",
      " 1   Year            6868 non-null   int64  \n",
      " 2   GDP_Per_Capita  6868 non-null   float64\n",
      "dtypes: float64(1), int64(1), object(1)\n",
      "memory usage: 161.1+ KB\n",
      "None\n",
      "<class 'pandas.core.frame.DataFrame'>\n",
      "RangeIndex: 4495 entries, 0 to 4494\n",
      "Data columns (total 3 columns):\n",
      " #   Column              Non-Null Count  Dtype  \n",
      "---  ------              --------------  -----  \n",
      " 0   Country             4495 non-null   object \n",
      " 1   Year                4495 non-null   int64  \n",
      " 2   Internet_Users_Pct  4495 non-null   float64\n",
      "dtypes: float64(1), int64(1), object(1)\n",
      "memory usage: 105.5+ KB\n",
      "None\n"
     ]
    }
   ],
   "source": [
    "gdp_df.rename(columns={'Country or Area': 'Country', 'Value': 'GDP_Per_Capita'}, inplace=True)\n",
    "print(gdp_df.info())\n",
    "internet_df.rename(columns={'Country or Area': 'Country', 'Value': 'Internet_Users_Pct'}, inplace=True)\n",
    "print(internet_df.info())"
   ]
  },
  {
   "cell_type": "markdown",
   "id": "d3169b36",
   "metadata": {},
   "source": [
    "**##\n",
    "Merge the two DataFrames to one. Merge all rows from each of the two DataFrames. Call the new DataFrame gdp_and_internet_use.\n",
    "Initially used a concat with outer and it resulted in empty dataframes.**  "
   ]
  },
  {
   "cell_type": "code",
   "execution_count": 13,
   "id": "84a0cdbc",
   "metadata": {},
   "outputs": [
    {
     "name": "stdout",
     "output_type": "stream",
     "text": [
      "<class 'pandas.core.frame.DataFrame'>\n",
      "Int64Index: 6868 entries, 0 to 6867\n",
      "Data columns (total 4 columns):\n",
      " #   Column              Non-Null Count  Dtype  \n",
      "---  ------              --------------  -----  \n",
      " 0   Country             6868 non-null   object \n",
      " 1   Year                6868 non-null   int64  \n",
      " 2   GDP_Per_Capita      6868 non-null   float64\n",
      " 3   Internet_Users_Pct  3458 non-null   float64\n",
      "dtypes: float64(2), int64(1), object(1)\n",
      "memory usage: 268.3+ KB\n",
      "None\n"
     ]
    }
   ],
   "source": [
    "gdp_and_internet_use=pd.merge(gdp_df,internet_df, how='left', on=['Country','Year'])\n",
    "print(gdp_and_internet_use.info())"
   ]
  },
  {
   "cell_type": "markdown",
   "id": "f07cf127",
   "metadata": {},
   "source": [
    "**##Look at the first five rows of your new DataFrame to confirm it merged correctly.**"
   ]
  },
  {
   "cell_type": "code",
   "execution_count": 14,
   "id": "524aba7b",
   "metadata": {},
   "outputs": [
    {
     "data": {
      "text/html": [
       "<div>\n",
       "<style scoped>\n",
       "    .dataframe tbody tr th:only-of-type {\n",
       "        vertical-align: middle;\n",
       "    }\n",
       "\n",
       "    .dataframe tbody tr th {\n",
       "        vertical-align: top;\n",
       "    }\n",
       "\n",
       "    .dataframe thead th {\n",
       "        text-align: right;\n",
       "    }\n",
       "</style>\n",
       "<table border=\"1\" class=\"dataframe\">\n",
       "  <thead>\n",
       "    <tr style=\"text-align: right;\">\n",
       "      <th></th>\n",
       "      <th>Country</th>\n",
       "      <th>Year</th>\n",
       "      <th>GDP_Per_Capita</th>\n",
       "      <th>Internet_Users_Pct</th>\n",
       "    </tr>\n",
       "  </thead>\n",
       "  <tbody>\n",
       "    <tr>\n",
       "      <th>0</th>\n",
       "      <td>Afghanistan</td>\n",
       "      <td>2019</td>\n",
       "      <td>2065.036398</td>\n",
       "      <td>NaN</td>\n",
       "    </tr>\n",
       "    <tr>\n",
       "      <th>1</th>\n",
       "      <td>Afghanistan</td>\n",
       "      <td>2018</td>\n",
       "      <td>2033.779002</td>\n",
       "      <td>NaN</td>\n",
       "    </tr>\n",
       "    <tr>\n",
       "      <th>2</th>\n",
       "      <td>Afghanistan</td>\n",
       "      <td>2017</td>\n",
       "      <td>2058.383832</td>\n",
       "      <td>NaN</td>\n",
       "    </tr>\n",
       "    <tr>\n",
       "      <th>3</th>\n",
       "      <td>Afghanistan</td>\n",
       "      <td>2016</td>\n",
       "      <td>2057.062164</td>\n",
       "      <td>NaN</td>\n",
       "    </tr>\n",
       "    <tr>\n",
       "      <th>4</th>\n",
       "      <td>Afghanistan</td>\n",
       "      <td>2015</td>\n",
       "      <td>2068.265904</td>\n",
       "      <td>NaN</td>\n",
       "    </tr>\n",
       "  </tbody>\n",
       "</table>\n",
       "</div>"
      ],
      "text/plain": [
       "       Country  Year  GDP_Per_Capita  Internet_Users_Pct\n",
       "0  Afghanistan  2019     2065.036398                 NaN\n",
       "1  Afghanistan  2018     2033.779002                 NaN\n",
       "2  Afghanistan  2017     2058.383832                 NaN\n",
       "3  Afghanistan  2016     2057.062164                 NaN\n",
       "4  Afghanistan  2015     2068.265904                 NaN"
      ]
     },
     "execution_count": 14,
     "metadata": {},
     "output_type": "execute_result"
    }
   ],
   "source": [
    "gdp_and_internet_use.head()"
   ]
  },
  {
   "cell_type": "markdown",
   "id": "6e2e3223",
   "metadata": {},
   "source": [
    "**##\n",
    "Look at the last five rows to make sure the data is clean and as expected.**"
   ]
  },
  {
   "cell_type": "code",
   "execution_count": 15,
   "id": "27b2b916",
   "metadata": {},
   "outputs": [
    {
     "data": {
      "text/html": [
       "<div>\n",
       "<style scoped>\n",
       "    .dataframe tbody tr th:only-of-type {\n",
       "        vertical-align: middle;\n",
       "    }\n",
       "\n",
       "    .dataframe tbody tr th {\n",
       "        vertical-align: top;\n",
       "    }\n",
       "\n",
       "    .dataframe thead th {\n",
       "        text-align: right;\n",
       "    }\n",
       "</style>\n",
       "<table border=\"1\" class=\"dataframe\">\n",
       "  <thead>\n",
       "    <tr style=\"text-align: right;\">\n",
       "      <th></th>\n",
       "      <th>Country</th>\n",
       "      <th>Year</th>\n",
       "      <th>GDP_Per_Capita</th>\n",
       "      <th>Internet_Users_Pct</th>\n",
       "    </tr>\n",
       "  </thead>\n",
       "  <tbody>\n",
       "    <tr>\n",
       "      <th>6863</th>\n",
       "      <td>Zimbabwe</td>\n",
       "      <td>1994</td>\n",
       "      <td>3263.934978</td>\n",
       "      <td>0.001739</td>\n",
       "    </tr>\n",
       "    <tr>\n",
       "      <th>6864</th>\n",
       "      <td>Zimbabwe</td>\n",
       "      <td>1993</td>\n",
       "      <td>3033.504852</td>\n",
       "      <td>NaN</td>\n",
       "    </tr>\n",
       "    <tr>\n",
       "      <th>6865</th>\n",
       "      <td>Zimbabwe</td>\n",
       "      <td>1992</td>\n",
       "      <td>3054.889178</td>\n",
       "      <td>NaN</td>\n",
       "    </tr>\n",
       "    <tr>\n",
       "      <th>6866</th>\n",
       "      <td>Zimbabwe</td>\n",
       "      <td>1991</td>\n",
       "      <td>3426.598094</td>\n",
       "      <td>NaN</td>\n",
       "    </tr>\n",
       "    <tr>\n",
       "      <th>6867</th>\n",
       "      <td>Zimbabwe</td>\n",
       "      <td>1990</td>\n",
       "      <td>3324.348171</td>\n",
       "      <td>0.000000</td>\n",
       "    </tr>\n",
       "  </tbody>\n",
       "</table>\n",
       "</div>"
      ],
      "text/plain": [
       "       Country  Year  GDP_Per_Capita  Internet_Users_Pct\n",
       "6863  Zimbabwe  1994     3263.934978            0.001739\n",
       "6864  Zimbabwe  1993     3033.504852                 NaN\n",
       "6865  Zimbabwe  1992     3054.889178                 NaN\n",
       "6866  Zimbabwe  1991     3426.598094                 NaN\n",
       "6867  Zimbabwe  1990     3324.348171            0.000000"
      ]
     },
     "execution_count": 15,
     "metadata": {},
     "output_type": "execute_result"
    }
   ],
   "source": [
    "gdp_and_internet_use.tail(5)"
   ]
  },
  {
   "cell_type": "markdown",
   "id": "3c162f9c",
   "metadata": {},
   "source": [
    "**##\n",
    "Subset the combined DataFrame to keep only the data for 2004, 2009, and 2014. Check that this happened correctly.**"
   ]
  },
  {
   "cell_type": "code",
   "execution_count": 16,
   "id": "c343f933",
   "metadata": {},
   "outputs": [
    {
     "name": "stdout",
     "output_type": "stream",
     "text": [
      "          Country  Year  GDP_Per_Capita  Internet_Users_Pct\n",
      "5     Afghanistan  2014     2102.385234            6.390000\n",
      "10    Afghanistan  2009     1758.904043            3.550000\n",
      "15    Afghanistan  2004     1200.278256            0.105809\n",
      "23        Albania  2014    11623.866679           60.100000\n",
      "28        Albania  2009    10346.864199           41.200000\n",
      "...           ...   ...             ...                 ...\n",
      "6818       Zambia  2009     2917.516220            6.310000\n",
      "6823       Zambia  2004     2261.766537            2.013550\n",
      "6843     Zimbabwe  2014     2955.240287           19.890000\n",
      "6848     Zimbabwe  2009     1925.364381           11.360000\n",
      "6853     Zimbabwe  2004     2480.859342            6.564045\n",
      "\n",
      "[708 rows x 4 columns]\n"
     ]
    }
   ],
   "source": [
    "newdf= gdp_and_internet_use[gdp_and_internet_use['Year'].isin([2009, 2004, 2014])]\n",
    "print(newdf)"
   ]
  },
  {
   "cell_type": "markdown",
   "id": "e1abae76",
   "metadata": {},
   "source": [
    "**##\n",
    "Create three new DataFrames, one for 2004, one for 2009, and one for 2014. Give them meaningful names that aren't too long.\n",
    "Created new dfs, checked to see if filter worked.**"
   ]
  },
  {
   "cell_type": "code",
   "execution_count": 17,
   "id": "bceb4d3d",
   "metadata": {},
   "outputs": [
    {
     "name": "stdout",
     "output_type": "stream",
     "text": [
      "                 Country  Year  GDP_Per_Capita  Internet_Users_Pct\n",
      "5            Afghanistan  2014     2102.385234                6.39\n",
      "23               Albania  2014    11623.866679               60.10\n",
      "53               Algeria  2014    11512.705405               18.09\n",
      "83                Angola  2014     8239.828837               21.26\n",
      "113  Antigua and Barbuda  2014    18104.241470               64.00\n"
     ]
    }
   ],
   "source": [
    "year_2004=gdp_and_internet_use[(gdp_and_internet_use['Year'] == 2004)]\n",
    "#year column is integer so it can't have quotes around it. \n",
    "year_2009=gdp_and_internet_use[(gdp_and_internet_use['Year'] == 2009)]\n",
    "year_2014=gdp_and_internet_use[(gdp_and_internet_use['Year'] == 2014)]\n",
    "print(year_2014.head())"
   ]
  },
  {
   "cell_type": "markdown",
   "id": "65d3d1dc",
   "metadata": {},
   "source": [
    "**##\n",
    "Which country had the highest percentage of internet users in 2014? What was the percentage? (Try typing the first 3 letters of your DataFrame name and hitting the tab key for auto-complete options).**"
   ]
  },
  {
   "cell_type": "code",
   "execution_count": 18,
   "id": "2899df69",
   "metadata": {},
   "outputs": [
    {
     "name": "stdout",
     "output_type": "stream",
     "text": [
      "2014 Highest %:\n",
      "98.16\n"
     ]
    },
    {
     "data": {
      "text/plain": [
       "2625    Iceland\n",
       "Name: Country, dtype: object"
      ]
     },
     "execution_count": 18,
     "metadata": {},
     "output_type": "execute_result"
    }
   ],
   "source": [
    "maxpct=year_2014['Internet_Users_Pct'].max(skipna=True)\n",
    "print('2014 Highest %:'), print(maxpct)\n",
    "year_2014.loc[year_2014['Internet_Users_Pct']==maxpct, 'Country']"
   ]
  },
  {
   "cell_type": "markdown",
   "id": "6b16594b",
   "metadata": {},
   "source": [
    "**##\n",
    "Which country had the lowest percentage of internet users in 2014? What was the percentage?**"
   ]
  },
  {
   "cell_type": "code",
   "execution_count": 19,
   "id": "4022e420",
   "metadata": {},
   "outputs": [
    {
     "name": "stdout",
     "output_type": "stream",
     "text": [
      "2014 Lowest %:\n",
      "1.14\n"
     ]
    },
    {
     "data": {
      "text/plain": [
       "6219    Timor-Leste\n",
       "Name: Country, dtype: object"
      ]
     },
     "execution_count": 19,
     "metadata": {},
     "output_type": "execute_result"
    }
   ],
   "source": [
    "minpct=year_2014['Internet_Users_Pct'].min(skipna=True)\n",
    "print('2014 Lowest %:'), print(minpct)\n",
    "year_2014.loc[year_2014['Internet_Users_Pct']==minpct, 'Country']"
   ]
  },
  {
   "cell_type": "markdown",
   "id": "6ffae5fc",
   "metadata": {},
   "source": [
    "**##Repeat for 2004**"
   ]
  },
  {
   "cell_type": "code",
   "execution_count": 20,
   "id": "0c6f1566",
   "metadata": {},
   "outputs": [
    {
     "name": "stdout",
     "output_type": "stream",
     "text": [
      "2004 Highest %:\n",
      "83.89\n",
      "2004 Highest Country:\n",
      "6019    Sweden\n",
      "Name: Country, dtype: object\n",
      "2004 Lowest %:\n",
      "0.024337392002823\n",
      "2004 Lowest Country:\n",
      "4342    Myanmar\n",
      "Name: Country, dtype: object\n"
     ]
    },
    {
     "data": {
      "text/plain": [
       "(None, None)"
      ]
     },
     "execution_count": 20,
     "metadata": {},
     "output_type": "execute_result"
    }
   ],
   "source": [
    "#2004 max\n",
    "max2004=year_2004['Internet_Users_Pct'].max(skipna=True)\n",
    "print('2004 Highest %:'), print(max2004)\n",
    "print('2004 Highest Country:'), print(year_2004.loc[year_2004['Internet_Users_Pct']==max2004, 'Country'])\n",
    "#2004 min\n",
    "min2004=year_2004['Internet_Users_Pct'].min(skipna=True)\n",
    "print('2004 Lowest %:'), print(min2004)\n",
    "print('2004 Lowest Country:'), print(year_2004.loc[year_2004['Internet_Users_Pct']==min2004, 'Country'])"
   ]
  },
  {
   "cell_type": "markdown",
   "id": "8600fcf4",
   "metadata": {},
   "source": [
    "**#Repeat for 2009**"
   ]
  },
  {
   "cell_type": "code",
   "execution_count": 21,
   "id": "95312222",
   "metadata": {},
   "outputs": [
    {
     "name": "stdout",
     "output_type": "stream",
     "text": [
      "2009 Highest %:\n",
      "93.0\n",
      "2009 Highest Country:\n",
      "2630    Iceland\n",
      "Name: Country, dtype: object\n",
      "2009 Lowest %:\n",
      "0.185251509799805\n",
      "2009 Lowest Country:\n",
      "6224    Timor-Leste\n",
      "Name: Country, dtype: object\n"
     ]
    },
    {
     "data": {
      "text/plain": [
       "(None, None)"
      ]
     },
     "execution_count": 21,
     "metadata": {},
     "output_type": "execute_result"
    }
   ],
   "source": [
    "#2009 max\n",
    "max2009=year_2009['Internet_Users_Pct'].max(skipna=True)\n",
    "print('2009 Highest %:'), print(max2009)\n",
    "print('2009 Highest Country:'), print(year_2009.loc[year_2009['Internet_Users_Pct']==max2009, 'Country'])\n",
    "#2009 min\n",
    "min2009=year_2009['Internet_Users_Pct'].min(skipna=True)\n",
    "print('2009 Lowest %:'), print(min2009)\n",
    "print('2009 Lowest Country:'), print(year_2009.loc[year_2009['Internet_Users_Pct']==min2009, 'Country'])"
   ]
  },
  {
   "cell_type": "markdown",
   "id": "751b279d",
   "metadata": {},
   "source": [
    "**##Which country had the highest gdp per capita in 2014? What was the gdp per capita?**"
   ]
  },
  {
   "cell_type": "code",
   "execution_count": 22,
   "id": "8a567f74",
   "metadata": {},
   "outputs": [
    {
     "name": "stdout",
     "output_type": "stream",
     "text": [
      "3721    Macao SAR, China\n",
      "Name: Country, dtype: object\n",
      "Highest GDP_Per_Capita:\n",
      "156514.133849784\n"
     ]
    },
    {
     "data": {
      "text/plain": [
       "(None, None)"
      ]
     },
     "execution_count": 22,
     "metadata": {},
     "output_type": "execute_result"
    }
   ],
   "source": [
    "max2014country=year_2014.loc[year_2014['GDP_Per_Capita']==year_2014['GDP_Per_Capita'].max(skipna=True), 'Country']\n",
    "print(max2014country)\n",
    "max2014gdp=year_2014['GDP_Per_Capita'].max(skipna=True)\n",
    "print('Highest GDP_Per_Capita:'), print(max2014gdp)"
   ]
  },
  {
   "cell_type": "markdown",
   "id": "084d2687",
   "metadata": {},
   "source": [
    "**#Which country had the lowest gdp per capita in 2014? What was the gdp per capita?**"
   ]
  },
  {
   "cell_type": "code",
   "execution_count": 23,
   "id": "da576718",
   "metadata": {},
   "outputs": [
    {
     "name": "stdout",
     "output_type": "stream",
     "text": [
      "1047    Central African Republic\n",
      "Name: Country, dtype: object\n",
      "Lowest GDP_Per_Capita:\n",
      "822.610457816902\n"
     ]
    },
    {
     "data": {
      "text/plain": [
       "(None, None)"
      ]
     },
     "execution_count": 23,
     "metadata": {},
     "output_type": "execute_result"
    }
   ],
   "source": [
    "min2014country=year_2014.loc[year_2014['GDP_Per_Capita']==year_2014['GDP_Per_Capita'].min(skipna=True), 'Country']\n",
    "print(min2014country)\n",
    "min2014gdp=year_2014['GDP_Per_Capita'].min(skipna=True)\n",
    "print('Lowest GDP_Per_Capita:'), print(min2014gdp)"
   ]
  },
  {
   "cell_type": "markdown",
   "id": "84682d3b",
   "metadata": {},
   "source": [
    "**Create some scatterplots:\n",
    "a. 2004 Percent Using the Internet vs GDP Per Capita\n",
    "b. 2009 Percent Using the Internet vs GDP Per Capita\n",
    "c. 2014 Percent Using the Internet vs GDP Per Capita**"
   ]
  },
  {
   "cell_type": "code",
   "execution_count": 24,
   "id": "72bf1cff",
   "metadata": {},
   "outputs": [
    {
     "data": {
      "image/png": "[encoded data removed]",
      "text/plain": [
       "<Figure size 432x288 with 1 Axes>"
      ]
     },
     "metadata": {
      "needs_background": "light"
     },
     "output_type": "display_data"
    },
    {
     "data": {
      "image/png": "[encoded data removed]",
      "text/plain": [
       "<Figure size 432x288 with 1 Axes>"
      ]
     },
     "metadata": {
      "needs_background": "light"
     },
     "output_type": "display_data"
    },
    {
     "data": {
      "image/png": "[encoded data removed]",
      "text/plain": [
       "<Figure size 432x288 with 1 Axes>"
      ]
     },
     "metadata": {
      "needs_background": "light"
     },
     "output_type": "display_data"
    }
   ],
   "source": [
    "plt.scatter(year_2004.Internet_Users_Pct,year_2004.GDP_Per_Capita, c='maroon')\n",
    "plt.title('2004')\n",
    "plt.xlabel('% Internet Users')\n",
    "plt.ylabel('GDP per Capita')\n",
    "plt.show()\n",
    "plt.scatter(year_2009.Internet_Users_Pct,year_2009.GDP_Per_Capita, c='rebeccapurple')\n",
    "plt.title('2009')\n",
    "plt.xlabel('% Internet Users')\n",
    "plt.ylabel('GDP per Capita')\n",
    "plt.show()\n",
    "plt.scatter(year_2014.Internet_Users_Pct,year_2014.GDP_Per_Capita)\n",
    "plt.title('2014')\n",
    "plt.xlabel('% Internet Users')\n",
    "plt.ylabel('GDP per Capita')\n",
    "plt.show()"
   ]
  },
  {
   "cell_type": "markdown",
   "id": "71cae30f",
   "metadata": {},
   "source": [
    "**Are there differences across years? What do the plots tell you about any relationship between these two variables? Enter your observations as a markdown cell.**"
   ]
  },
  {
   "cell_type": "markdown",
   "id": "c907be0b",
   "metadata": {},
   "source": [
    "1. % of internet users at lower GDP per capita has risen\n",
    "2. There is a positive correlation between GDP per capita and internet users in the country "
   ]
  },
  {
   "cell_type": "markdown",
   "id": "4e90881a",
   "metadata": {},
   "source": [
    "**Look at the distribution of gdp per capita values for 2014. Is it unimodal?**"
   ]
  },
  {
   "cell_type": "markdown",
   "id": "15aab084",
   "metadata": {},
   "source": [
    "1. Yes, there is a singular highest value in the data set "
   ]
  },
  {
   "cell_type": "markdown",
   "id": "a5a5e8bc",
   "metadata": {},
   "source": [
    "**What are the top 5 countries in terms of internet use in 2014?**"
   ]
  },
  {
   "cell_type": "code",
   "execution_count": 25,
   "id": "c8c5ae3d",
   "metadata": {},
   "outputs": [
    {
     "name": "stdout",
     "output_type": "stream",
     "text": [
      "         Country  Year  GDP_Per_Capita  Internet_Users_Pct\n",
      "2625     Iceland  2014    49652.149500               98.16\n",
      "561      Bermuda  2014    77361.104881               96.80\n",
      "4648      Norway  2014    62589.373548               96.30\n",
      "1452     Denmark  2014    52214.537753               95.99\n",
      "3691  Luxembourg  2014   108760.916030               94.67\n"
     ]
    }
   ],
   "source": [
    "sorted_2014 = year_2014.sort_values(by='Internet_Users_Pct', ascending=False)\n",
    "print(sorted_2014.head())"
   ]
  },
  {
   "cell_type": "markdown",
   "id": "4f13f7cf",
   "metadata": {},
   "source": [
    "**Create a DataFrame called top_5_internet from the combined DataFrame that has all three years for the 5 countries that had the greatest 2014 internet usage. You should have 15 rows. Check that this is true.**"
   ]
  },
  {
   "cell_type": "code",
   "execution_count": 26,
   "id": "806ad23b",
   "metadata": {},
   "outputs": [
    {
     "name": "stdout",
     "output_type": "stream",
     "text": [
      "<class 'pandas.core.frame.DataFrame'>\n",
      "Int64Index: 15 entries, 561 to 4658\n",
      "Data columns (total 4 columns):\n",
      " #   Column              Non-Null Count  Dtype  \n",
      "---  ------              --------------  -----  \n",
      " 0   Country             15 non-null     object \n",
      " 1   Year                15 non-null     int64  \n",
      " 2   GDP_Per_Capita      15 non-null     float64\n",
      " 3   Internet_Users_Pct  15 non-null     float64\n",
      "dtypes: float64(2), int64(1), object(1)\n",
      "memory usage: 600.0+ bytes\n",
      "None\n"
     ]
    }
   ],
   "source": [
    "top_5_internet=newdf[newdf['Country'].isin(['Iceland','Bermuda','Norway','Denmark','Luxembourg'])]\n",
    "print(top_5_internet.info())\n"
   ]
  },
  {
   "cell_type": "markdown",
   "id": "82ddfd55",
   "metadata": {},
   "source": [
    "**Create a seaborn FacetGrid to show the internet usage trend across the years 2004, 2009, and 2014 for these 5 countries (those with the highest reported internet use in 2014). Which country had the greatest growth between 2004 and 2014?**"
   ]
  },
  {
   "cell_type": "code",
   "execution_count": 27,
   "id": "d59265c0",
   "metadata": {},
   "outputs": [
    {
     "data": {
      "image/png": "[encoded data removed]",
      "text/plain": [
       "<Figure size 1080x216 with 5 Axes>"
      ]
     },
     "metadata": {
      "needs_background": "light"
     },
     "output_type": "display_data"
    }
   ],
   "source": [
    "grids_top=sns.FacetGrid(top_5_internet, col='Country')\n",
    "grids_top.map(sns.lineplot, 'Year','Internet_Users_Pct')\n",
    "plt.show()"
   ]
  },
  {
   "cell_type": "markdown",
   "id": "f498ca4c",
   "metadata": {},
   "source": [
    "**Repeat the steps above to look at the trend for the 5 countries with the lowest 2014 internet usage. Which country has consistently had the least internet use?**"
   ]
  },
  {
   "cell_type": "code",
   "execution_count": 28,
   "id": "ae88033e",
   "metadata": {},
   "outputs": [
    {
     "name": "stdout",
     "output_type": "stream",
     "text": [
      "           Country  Year  GDP_Per_Capita  Internet_Users_Pct\n",
      "6219   Timor-Leste  2014     3264.568070                1.14\n",
      "827        Burundi  2014      886.235777                1.38\n",
      "2326        Guinea  2014     2061.760973                1.72\n",
      "4528         Niger  2014     1127.615541                1.95\n",
      "5434  Sierra Leone  2014     1997.511853                2.10\n"
     ]
    }
   ],
   "source": [
    "sorted_2014_low = year_2014.sort_values(by='Internet_Users_Pct', ascending=True)\n",
    "print(sorted_2014_low.head())"
   ]
  },
  {
   "cell_type": "code",
   "execution_count": 29,
   "id": "84ac35bb",
   "metadata": {},
   "outputs": [
    {
     "name": "stdout",
     "output_type": "stream",
     "text": [
      "<class 'pandas.core.frame.DataFrame'>\n",
      "Int64Index: 15 entries, 827 to 6229\n",
      "Data columns (total 4 columns):\n",
      " #   Column              Non-Null Count  Dtype  \n",
      "---  ------              --------------  -----  \n",
      " 0   Country             15 non-null     object \n",
      " 1   Year                15 non-null     int64  \n",
      " 2   GDP_Per_Capita      15 non-null     float64\n",
      " 3   Internet_Users_Pct  14 non-null     float64\n",
      "dtypes: float64(2), int64(1), object(1)\n",
      "memory usage: 600.0+ bytes\n",
      "None\n",
      "           Country  Year  GDP_Per_Capita  Internet_Users_Pct\n",
      "827        Burundi  2014      886.235777            1.380000\n",
      "832        Burundi  2009      831.564131            0.900000\n",
      "837        Burundi  2004      817.460585            0.349060\n",
      "2326        Guinea  2014     2061.760973            1.720000\n",
      "2331        Guinea  2009     1825.576637            0.940000\n",
      "2336        Guinea  2004     1778.079082            0.508819\n",
      "4528         Niger  2014     1127.615541            1.950000\n",
      "4533         Niger  2009      992.409977            0.760000\n",
      "4538         Niger  2004      929.883920            0.189934\n",
      "5434  Sierra Leone  2014     1997.511853            2.100000\n",
      "5439  Sierra Leone  2009     1372.392285            0.260000\n",
      "5444  Sierra Leone  2004     1237.630244            0.203008\n",
      "6219   Timor-Leste  2014     3264.568070            1.140000\n",
      "6224   Timor-Leste  2009     2724.770973            0.185252\n",
      "6229   Timor-Leste  2004     2258.608056                 NaN\n"
     ]
    }
   ],
   "source": [
    "bottom_5_internet=newdf[newdf['Country'].isin(['Timor-Leste','Burundi','Guinea','Niger','Sierra Leone'])]\n",
    "print(bottom_5_internet.info())\n",
    "print(bottom_5_internet)"
   ]
  },
  {
   "cell_type": "code",
   "execution_count": 30,
   "id": "f05164d9",
   "metadata": {},
   "outputs": [
    {
     "data": {
      "image/png": "[encoded data removed]",
      "text/plain": [
       "<Figure size 1080x216 with 5 Axes>"
      ]
     },
     "metadata": {
      "needs_background": "light"
     },
     "output_type": "display_data"
    }
   ],
   "source": [
    "grids_low=sns.FacetGrid(bottom_5_internet, col='Country')\n",
    "grids_low.map(sns.lineplot,'Year','Internet_Users_Pct')\n",
    "plt.show()"
   ]
  },
  {
   "cell_type": "markdown",
   "id": "3a4a62e3",
   "metadata": {},
   "source": [
    "**Find the top 5 countries for 2014 in terms of GDP per capita; create a DataFrame to look at 10-year trends (use 2004, 2009, 2014 to look at the 10-year trend) in gdp per capita for the 5 countries with the highest 2014 GDP per capita. Use a seaborn facet grid for this.**"
   ]
  },
  {
   "cell_type": "markdown",
   "id": "fe446132",
   "metadata": {},
   "source": [
    "**Repeat this one more time to look at 10-year trend for the 5 countries for 2014 with the lowest GDP per capita.**"
   ]
  },
  {
   "cell_type": "markdown",
   "id": "8b2e3106",
   "metadata": {},
   "source": [
    "**Is there anything surprising or unusual in any of these plots? Searching on the internet, can you find any possible explanations for unusual findings?**"
   ]
  },
  {
   "cell_type": "code",
   "execution_count": 31,
   "id": "382b0c19",
   "metadata": {},
   "outputs": [
    {
     "name": "stdout",
     "output_type": "stream",
     "text": [
      "<class 'pandas.core.frame.DataFrame'>\n",
      "Int64Index: 238 entries, 3721 to 1047\n",
      "Data columns (total 4 columns):\n",
      " #   Column              Non-Null Count  Dtype  \n",
      "---  ------              --------------  -----  \n",
      " 0   Country             238 non-null    object \n",
      " 1   Year                238 non-null    int64  \n",
      " 2   GDP_Per_Capita      238 non-null    float64\n",
      " 3   Internet_Users_Pct  163 non-null    float64\n",
      "dtypes: float64(2), int64(1), object(1)\n",
      "memory usage: 9.3+ KB\n",
      "None\n",
      "               Country  Year  GDP_Per_Capita  Internet_Users_Pct\n",
      "3721  Macao SAR, China  2014   156514.133850                 NaN\n",
      "3691        Luxembourg  2014   108760.916030               94.67\n",
      "5138             Qatar  2014    95578.416973               91.49\n",
      "5464         Singapore  2014    87808.663157               82.00\n",
      "561            Bermuda  2014    77361.104881               96.80\n"
     ]
    }
   ],
   "source": [
    "# top 5 GDP in 2014\n",
    "gdp_high = year_2014.sort_values(by='GDP_Per_Capita', ascending=False)\n",
    "#print to see countries\n",
    "print(gdp_high.info())\n",
    "#drop all but top 5 countries, replace df\n",
    "gdp_high.drop(gdp_high.tail(233).index,\n",
    "        inplace = True)\n",
    "#print 6 rows to make sure it worked \n",
    "print(gdp_high.head(6))"
   ]
  },
  {
   "cell_type": "markdown",
   "id": "20be95c4",
   "metadata": {},
   "source": [
    "**10 year trend for highest gdp per capita countries**"
   ]
  },
  {
   "cell_type": "code",
   "execution_count": 32,
   "id": "83d10367",
   "metadata": {},
   "outputs": [
    {
     "name": "stdout",
     "output_type": "stream",
     "text": [
      "               Country  Year  GDP_Per_Capita  Internet_Users_Pct\n",
      "561            Bermuda  2014    77361.104881           96.800000\n",
      "566            Bermuda  2009    89961.982744           83.250000\n",
      "571            Bermuda  2004    90195.811033           60.990867\n",
      "3691        Luxembourg  2014   108760.916030           94.670000\n",
      "3696        Luxembourg  2009   104932.811953           87.310000\n",
      "3701        Luxembourg  2004   102708.212547           65.880000\n",
      "3721  Macao SAR, China  2014   156514.133850                 NaN\n",
      "3726  Macao SAR, China  2009    95939.340822                 NaN\n",
      "3731  Macao SAR, China  2004    72944.409424                 NaN\n",
      "5138             Qatar  2014    95578.416973           91.490000\n",
      "5143             Qatar  2009    89954.519993           53.100000\n",
      "5148             Qatar  2004    93748.301216           20.701648\n",
      "5464         Singapore  2014    87808.663157           82.000000\n",
      "5469         Singapore  2009    69466.581746           69.000000\n",
      "5474         Singapore  2004    63901.716368           62.000000\n"
     ]
    }
   ],
   "source": [
    "#create 10 year DF\n",
    "#newdf is the combined 2009, 2014, 2004 dataframe from earlier\n",
    "#gdp_high is the top 5 countries\n",
    "gdp_10_year=newdf[newdf['Country'].isin(['Macao SAR, China', 'Luxembourg', 'Qatar', 'Singapore', 'Bermuda'])]\n",
    "print(gdp_10_year)"
   ]
  },
  {
   "cell_type": "markdown",
   "id": "7c873523",
   "metadata": {},
   "source": [
    "**Add facet grids**"
   ]
  },
  {
   "cell_type": "code",
   "execution_count": 33,
   "id": "9a42d542",
   "metadata": {},
   "outputs": [
    {
     "data": {
      "image/png": "[encoded data removed]",
      "text/plain": [
       "<Figure size 1080x216 with 5 Axes>"
      ]
     },
     "metadata": {
      "needs_background": "light"
     },
     "output_type": "display_data"
    }
   ],
   "source": [
    "grids_high_pc=sns.FacetGrid(gdp_10_year, col='Country')\n",
    "grids_high_pc.map(sns.lineplot,'Year','GDP_Per_Capita')\n",
    "plt.show()"
   ]
  },
  {
   "cell_type": "markdown",
   "id": "3bd32735",
   "metadata": {},
   "source": [
    "**Macao SAR saw influx of casinos starting in 2004 - 2007, which may lead to the sharp increase in GDP_per_capita (country makes more money but from tourists, not residents, as population has remained stable**"
   ]
  },
  {
   "cell_type": "markdown",
   "id": "c50c50ac",
   "metadata": {},
   "source": [
    "**Repeat this one more time to look at 10-year trend for the 5 countries for 2014 with the lowest GDP per capita.**"
   ]
  },
  {
   "cell_type": "code",
   "execution_count": 34,
   "id": "490e9f11",
   "metadata": {},
   "outputs": [
    {
     "name": "stdout",
     "output_type": "stream",
     "text": [
      "<class 'pandas.core.frame.DataFrame'>\n",
      "Int64Index: 238 entries, 1047 to 3721\n",
      "Data columns (total 4 columns):\n",
      " #   Column              Non-Null Count  Dtype  \n",
      "---  ------              --------------  -----  \n",
      " 0   Country             238 non-null    object \n",
      " 1   Year                238 non-null    int64  \n",
      " 2   GDP_Per_Capita      238 non-null    float64\n",
      " 3   Internet_Users_Pct  163 non-null    float64\n",
      "dtypes: float64(2), int64(1), object(1)\n",
      "memory usage: 9.3+ KB\n",
      "None\n",
      "                       Country  Year  GDP_Per_Capita  Internet_Users_Pct\n",
      "1047  Central African Republic  2014      822.610458                 NaN\n",
      "827                    Burundi  2014      886.235777                1.38\n",
      "3781                    Malawi  2014     1027.208496                5.83\n",
      "1422           Dem. Rep. Congo  2014     1029.790785                 NaN\n",
      "4528                     Niger  2014     1127.615541                1.95\n"
     ]
    }
   ],
   "source": [
    "# bottom 5 GDP in 2014 (switch sort order to bring bottom to top from last df)\n",
    "gdp_bottom = year_2014.sort_values(by='GDP_Per_Capita', ascending=True)\n",
    "#print to see countries\n",
    "print(gdp_bottom.info())\n",
    "#drop all but top 5 countries, replace df\n",
    "gdp_bottom.drop(gdp_bottom.tail(233).index,\n",
    "        inplace = True)\n",
    "#print 6 rows to make sure it worked \n",
    "print(gdp_bottom.head(6))"
   ]
  },
  {
   "cell_type": "code",
   "execution_count": 35,
   "id": "bb8904d9",
   "metadata": {},
   "outputs": [
    {
     "name": "stdout",
     "output_type": "stream",
     "text": [
      "[['Central African Republic']\n",
      " ['Burundi']\n",
      " ['Malawi']\n",
      " ['Dem. Rep. Congo']\n",
      " ['Niger']]\n"
     ]
    }
   ],
   "source": [
    "#create array from bottom 5 countries to try and pass to my next df\n",
    "#newdf is the combined 2009, 2014, 2004 dataframe from earlier\n",
    "#gdp_bottom is the bottom 5 countries\n",
    "bottomgdp_array = gdp_bottom[['Country']].to_numpy()\n",
    "print(bottomgdp_array)"
   ]
  },
  {
   "cell_type": "markdown",
   "id": "5e376604",
   "metadata": {},
   "source": [
    "**Can't figure out how to filter df by array :(**"
   ]
  },
  {
   "cell_type": "code",
   "execution_count": 36,
   "id": "93b1c2e0",
   "metadata": {},
   "outputs": [
    {
     "name": "stdout",
     "output_type": "stream",
     "text": [
      "                       Country  Year  GDP_Per_Capita  Internet_Users_Pct\n",
      "827                    Burundi  2014      886.235777            1.380000\n",
      "832                    Burundi  2009      831.564131            0.900000\n",
      "837                    Burundi  2004      817.460585            0.349060\n",
      "1047  Central African Republic  2014      822.610458                 NaN\n",
      "1052  Central African Republic  2009     1161.189475                 NaN\n",
      "1057  Central African Republic  2004     1037.846766                 NaN\n",
      "1422           Dem. Rep. Congo  2014     1029.790785                 NaN\n",
      "1427           Dem. Rep. Congo  2009      835.611696                 NaN\n",
      "1432           Dem. Rep. Congo  2004      757.685942                 NaN\n",
      "3781                    Malawi  2014     1027.208496            5.830000\n",
      "3786                    Malawi  2009      932.867635            1.070000\n",
      "3791                    Malawi  2004      775.346132            0.347505\n",
      "4528                     Niger  2014     1127.615541            1.950000\n",
      "4533                     Niger  2009      992.409977            0.760000\n",
      "4538                     Niger  2004      929.883920            0.189934\n"
     ]
    }
   ],
   "source": [
    "bottomgdp_10_year=newdf[newdf['Country'].isin(['Central African Republic', 'Burundi', 'Malawi', 'Dem. Rep. Congo', 'Niger'])]\n",
    "print(bottomgdp_10_year)"
   ]
  },
  {
   "cell_type": "markdown",
   "id": "918d237e",
   "metadata": {},
   "source": [
    "**Facet Grids for Bottom 5 GDP Countries**"
   ]
  },
  {
   "cell_type": "code",
   "execution_count": 37,
   "id": "e5a4c72a",
   "metadata": {},
   "outputs": [
    {
     "data": {
      "image/png": "[encoded data removed]",
      "text/plain": [
       "<Figure size 1080x216 with 5 Axes>"
      ]
     },
     "metadata": {
      "needs_background": "light"
     },
     "output_type": "display_data"
    }
   ],
   "source": [
    "grids_low_pc=sns.FacetGrid(bottomgdp_10_year, col='Country')\n",
    "grids_low_pc.map(sns.lineplot,'Year','GDP_Per_Capita')\n",
    "plt.show()"
   ]
  },
  {
   "cell_type": "code",
   "execution_count": null,
   "id": "ab80cdd0",
   "metadata": {},
   "outputs": [],
   "source": []
  }
 ],
 "metadata": {
  "kernelspec": {
   "display_name": "Python 3 (ipykernel)",
   "language": "python",
   "name": "python3"
  },
  "language_info": {
   "codemirror_mode": {
    "name": "ipython",
    "version": 3
   },
   "file_extension": ".py",
   "mimetype": "text/x-python",
   "name": "python",
   "nbconvert_exporter": "python",
   "pygments_lexer": "ipython3",
   "version": "3.9.7"
  }
 },
 "nbformat": 4,
 "nbformat_minor": 5
}
